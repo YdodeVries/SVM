{
 "cells": [
  {
   "cell_type": "markdown",
   "id": "dda18b5e-f66e-4c8a-aee2-5c846e925242",
   "metadata": {},
   "source": [
    "\n",
    "# General imports"
   ]
  },
  {
   "cell_type": "code",
   "execution_count": null,
   "id": "0595c9de-8d36-4701-a64f-213590588b16",
   "metadata": {
    "tags": []
   },
   "outputs": [],
   "source": [
    "import pandas as pd\n",
    "from sklearn.model_selection import train_test_split\n",
    "from sklearn.preprocessing import StandardScaler\n",
    "from sklearn.svm import SVC\n",
    "from sklearn.metrics import classification_report, confusion_matrix\n",
    "from sklearn.utils import resample\n",
    "import plotly.graph_objects as go\n",
    "import plotly.express as px\n",
    "import plotly.io as pio\n",
    "\n",
    "%matplotlib inline\n",
    "import matplotlib.pyplot as plt\n",
    "import numpy as np\n",
    "\n",
    "from PIL import Image\n",
    "import requests\n",
    "from io import BytesIO"
   ]
  },
  {
   "cell_type": "markdown",
   "id": "ef672831-c86a-4075-b36d-f915a01aa552",
   "metadata": {
    "tags": []
   },
   "source": [
    "# Data importeren"
   ]
  },
  {
   "cell_type": "markdown",
   "id": "4493964f-4177-49d9-9c7a-a0b89d762de6",
   "metadata": {
    "tags": []
   },
   "source": [
    "## Bruggendata"
   ]
  },
  {
   "cell_type": "code",
   "execution_count": null,
   "id": "36b04dee-d77b-4c5a-87b3-a8737c9ce4aa",
   "metadata": {
    "tags": []
   },
   "outputs": [],
   "source": [
    "# Lees de dexter export van brugdata in\n",
    "brug = pd.read_csv('https://dqpublicblob.blob.core.windows.net/data-quality/SVM-model/brugdata/sb-bruggen-export-aalsmeerderbrug.csv',\n",
    "                 low_memory=False)\n"
   ]
  },
  {
   "cell_type": "code",
   "execution_count": null,
   "id": "00976e69-36e6-40ff-aa05-d4054f3ddd1b",
   "metadata": {
    "tags": []
   },
   "outputs": [],
   "source": [
    "# Kaart van de brug\n",
    "url = 'https://dqpublicblob.blob.core.windows.net/data-quality/SVM-model/brugdata/Geselecteerde%20locaties.png'\n",
    "\n",
    "# Fetch the image\n",
    "response = requests.get(url)\n",
    "img = Image.open(BytesIO(response.content))\n",
    "\n",
    "# Display the image\n",
    "plt.imshow(img)\n",
    "plt.axis('off')  # Hide axes\n",
    "plt.show()"
   ]
  },
  {
   "cell_type": "code",
   "execution_count": null,
   "id": "502897fb-e15a-4a2e-9730-c79c3f2bb2f4",
   "metadata": {
    "tags": []
   },
   "outputs": [],
   "source": [
    "# Zorg dat de opening en sluitingstijden echte datum/tijd velden zijn\n",
    "brug['opening'] = pd.to_datetime(brug['geopend'])\n",
    "brug['sluiting'] = pd.to_datetime(brug['gesloten'])\n"
   ]
  },
  {
   "cell_type": "markdown",
   "id": "8350d749-50ab-47f3-bc30-ee0785767881",
   "metadata": {},
   "source": [
    "## Reistijden"
   ]
  },
  {
   "cell_type": "code",
   "execution_count": null,
   "id": "a4ece2cf-f773-4d22-a98d-d9916fd4ea4b",
   "metadata": {
    "tags": []
   },
   "outputs": [],
   "source": [
    "# Lees de export van reistijden van 4 trajecten vanuit Dexter in.\n",
    "rt = pd.read_csv('https://dqpublicblob.blob.core.windows.net/data-quality/SVM-model/reistijden/reistijd-export-aalsmeerderbrug-volledig.csv',\n",
    "                 low_memory=False)\n"
   ]
  },
  {
   "cell_type": "code",
   "execution_count": null,
   "id": "3132ad3c-2f08-4fca-a339-75a4439ea7ca",
   "metadata": {
    "tags": []
   },
   "outputs": [],
   "source": [
    "# Omdat de FCD en reistijd een vertraging heeft, verschuiven we starttijd met 6 minuten.\n",
    "rt['start'] = pd.to_datetime(rt['start_meetperiode']) - pd.to_timedelta(6, 'min')\n",
    "\n",
    "# Beschouw alleen de periode tussen 6-21 uur. Dan is er in ieder geval genoeg FCD.\n",
    "rt = rt[(rt['start'].dt.hour > 6) & (rt['start'].dt.hour < 21)]\n",
    "\n",
    "# Bekijk de eerste 5 records eens.\n",
    "rt.head(5)"
   ]
  },
  {
   "cell_type": "markdown",
   "id": "60b8c5a4-e158-4cbc-a105-64726f6258df",
   "metadata": {
    "tags": []
   },
   "source": [
    "## Bewerk de reistijden\n",
    "De reistijden worden geleverd in losse records voor elk traject.\n",
    "Voor de analyse willen we dat de trajectdata in kolommen staat, zodat we voor elke minuut\n",
    "de data kunnen gebruiken. Daarom pivoteren we de gegevens."
   ]
  },
  {
   "cell_type": "code",
   "execution_count": null,
   "id": "4b97bae8-c0f1-4424-b269-9cf99ca03455",
   "metadata": {
    "tags": []
   },
   "outputs": [],
   "source": [
    "pivoted_travel_times = rt.pivot_table(index='start',\n",
    "                                        columns='id_meetlocatie',\n",
    "                                        values=['gem_reistijd'  #,\n",
    "                                                #'kwaliteitsindicator_reistijd',\n",
    "                                                #'waarnemingen_reistijd'\n",
    "                                                ]\n",
    "                                      )"
   ]
  },
  {
   "cell_type": "markdown",
   "id": "61613369-2baf-4636-aa8c-77d654a13721",
   "metadata": {},
   "source": [
    "### Nu gaan we de 'ground thruth' data toevoegen waarop we het model trainen."
   ]
  },
  {
   "cell_type": "code",
   "execution_count": null,
   "id": "73eba7bd-1fa6-42e4-a280-4be953416ad3",
   "metadata": {
    "tags": []
   },
   "outputs": [],
   "source": [
    "# Voeg een kolom 'brug_open' toe\n",
    "pivoted_travel_times['brug_open'] = 0\n",
    "\n",
    "# Markeer reistijden die tijdens een brugopening vallen\n",
    "# We kennen een opening de waarde 10 toe, zodat we die later makkelijker kunnen visualiseren.\n",
    "for idx, row in brug.iterrows():\n",
    "    mask = (pivoted_travel_times.index >= pd.to_datetime(row['opening'])) & (\n",
    "            pivoted_travel_times.index <= pd.to_datetime(row['sluiting']))\n",
    "    pivoted_travel_times.loc[mask, 'brug_open'] = 10"
   ]
  },
  {
   "cell_type": "code",
   "execution_count": null,
   "id": "9f41b23e-9f0d-47b9-8753-22cef7b972bf",
   "metadata": {
    "tags": []
   },
   "outputs": [],
   "source": [
    "# Laten we de gegevens in een grafiek tonen, zodat we wat inzicht hebben in waar we naar kijken.\n",
    "pivoted_travel_times.plot.line(y=pivoted_travel_times.columns, color =['red', 'blue', 'orange',\n",
    "                                                                       'grey', 'black'])\n",
    "plt.show()\n",
    "\n",
    "\n",
    "# Maak ook een interactieve plot.\n",
    "\n",
    "fig = go.Figure()\n",
    "cols = pivoted_travel_times.columns\n",
    "color =['red', 'blue', 'orange', 'grey', 'black', 'purple']\n",
    "for col in range(len(cols)):\n",
    "    y_data = pivoted_travel_times[cols[col]]\n",
    "    name = str(cols[col])\n",
    "        \n",
    "    fig.add_trace(go.Scatter(x=pivoted_travel_times.index, y=y_data, mode='lines', name=name, line=dict(color=color[col])))\n",
    "\n",
    "fig.write_html('SVM-input-data-kennisevent.html')\n"
   ]
  },
  {
   "cell_type": "markdown",
   "id": "67870354-784f-4b37-abde-1c9281fd63cb",
   "metadata": {},
   "source": [
    "Om de interactieve plot te bekijken, kan je links klikken op het mapje (bestanden) en eventueel de inhoud vernieuwen (het cirkel-pijltje).\n",
    "Download het bestand en open dit door er dubbel op te klikken. Je kunt nu lijnen uit en aan zetten en inzoomen."
   ]
  },
  {
   "cell_type": "markdown",
   "id": "e41e7a58-c9ab-4a14-9b7b-ae86df31f1a1",
   "metadata": {},
   "source": [
    "# Bouwen van het model"
   ]
  },
  {
   "cell_type": "markdown",
   "id": "f7ecd92e-57d2-495a-852b-1e6d60db4321",
   "metadata": {
    "tags": []
   },
   "source": [
    "## Data voorbereiding"
   ]
  },
  {
   "cell_type": "code",
   "execution_count": null,
   "id": "5079d3e8-b485-4d42-a6be-b010ba0fa49e",
   "metadata": {
    "tags": []
   },
   "outputs": [],
   "source": [
    "# Selecteer de relevante features (alle kolommen) en de target variabele\n",
    "# Features zijn de waarden die we gebruiken om de target te voorspellen.\n",
    "\n",
    "features = pivoted_travel_times.columns.drop('brug_open')\n",
    "target = 'brug_open'"
   ]
  },
  {
   "cell_type": "code",
   "execution_count": null,
   "id": "9726c715-bd3a-4798-82ec-4044dd67e7ef",
   "metadata": {
    "tags": []
   },
   "outputs": [],
   "source": [
    "# Nu bepalen we de data waarop we trainen. Dit zijn de gegevens van 29/5 tot 3/6.\n",
    "traindata = pivoted_travel_times[pivoted_travel_times.index < '2024-06-03 00:00:00']\n",
    "X = traindata[features]\n",
    "y = traindata[target]"
   ]
  },
  {
   "cell_type": "code",
   "execution_count": null,
   "id": "1f5910ef-44fd-4282-8f5b-e3f8d1504a02",
   "metadata": {
    "tags": []
   },
   "outputs": [],
   "source": [
    "# Splits de data in trainings- en testsets\n",
    "# De 80/20 regel is vaak goed. En we testen over dezelfde periode als de trainingsdata.\n",
    "X_train, X_test, y_train, y_test = train_test_split(X, y, test_size=0.4, random_state=42)"
   ]
  },
  {
   "cell_type": "markdown",
   "id": "92d3e8b8-5ee3-40c7-9285-09c06e39b383",
   "metadata": {},
   "source": [
    "## Resampling en normaliseren\n",
    "\n",
    "Nu is er een probleem. De brug is veel vaker dicht (horizontaal) dan open (verticaal). Dus als we er niets aan doen, trainen we meer op een juiste dicht voorspelling. Dat willen we niet.\n",
    "\n",
    "Een tweede probleem is dat de waardes van de features sterk uiteenlopen in grootte. Hiervoor kan je corrigeren door ze te normaliseren.\n"
   ]
  },
  {
   "cell_type": "markdown",
   "id": "a50953d1-3fbf-42fe-a459-425e41e7b2af",
   "metadata": {},
   "source": [
    "### Resampling"
   ]
  },
  {
   "cell_type": "code",
   "execution_count": null,
   "id": "f559b6a0-cfee-4973-a43a-03eb4181ffc1",
   "metadata": {
    "tags": []
   },
   "outputs": [],
   "source": [
    "# Combineer X_train en y_train voor het resampling proces\n",
    "train_data = pd.concat([X_train, y_train], axis=1)\n",
    "\n",
    "# Scheid majority en minority classes\n",
    "not_open = train_data[train_data['brug_open'] == 0]\n",
    "open = train_data[train_data['brug_open'] == 10]\n",
    "\n",
    "# Resample de minority class\n",
    "open_upsampled = resample(open,\n",
    "                          replace=True,  # sample with replacement\n",
    "                          n_samples=len(not_open),  # match number in majority class\n",
    "                          random_state=42)  # reproducible results\n",
    "\n",
    "# Combineer majority en upsampled minority class\n",
    "upsampled = pd.concat([not_open, open_upsampled])\n",
    "\n",
    "# Scheid de features en de target\n",
    "X_train_balanced = np.array(upsampled.drop('brug_open', axis=1))\n",
    "y_train_balanced = np.array(upsampled['brug_open'])\n",
    "\n",
    "# Print het aantal voorkomens voor brug gesloten(0) en brugopen(10)\n",
    "print(np.unique(y_train_balanced, return_counts=True))"
   ]
  },
  {
   "cell_type": "markdown",
   "id": "161d1159-cf17-47ae-99e3-d54d806e04b2",
   "metadata": {
    "tags": []
   },
   "source": [
    "### Normaliseren"
   ]
  },
  {
   "cell_type": "code",
   "execution_count": null,
   "id": "7f2704ee-e071-4ed6-805f-12afd9a1d574",
   "metadata": {
    "tags": []
   },
   "outputs": [],
   "source": [
    "# Normaliseer de features.\n",
    "scaler = StandardScaler()\n",
    "X_train = scaler.fit_transform(X_train)\n",
    "X_test = scaler.transform(X_test)\n",
    "\n",
    "X_train_balanced = scaler.fit_transform(X_train_balanced)"
   ]
  },
  {
   "cell_type": "markdown",
   "id": "e6382e41-b656-42da-8931-c6ca6960365e",
   "metadata": {},
   "source": [
    "## Model definitie en training\n",
    "We kiezen voor een Support Vector Machine classificatie model met een RBF kernel. Deze is het meest flexibel.\n",
    "\n",
    "Als je meer wilt weten: https://www.geeksforgeeks.org/radial-basis-function-kernel-machine-learning/\n",
    "\n",
    "In onderstaande afbeelding zie je waarom een Radial Basis Kernel (RBF) in dit geval waarschijnlijk het beste presteert:"
   ]
  },
  {
   "cell_type": "code",
   "execution_count": null,
   "id": "3c9c242a-2c0e-469d-af70-1d923a3b8680",
   "metadata": {
    "tags": []
   },
   "outputs": [],
   "source": [
    "url = 'https://dqpublicblob.blob.core.windows.net/data-quality/SVM-model/SVM-kernels.jpg'\n",
    "\n",
    "# Fetch the image\n",
    "response = requests.get(url)\n",
    "img = Image.open(BytesIO(response.content))\n",
    "\n",
    "# Display the image\n",
    "plt.imshow(img)\n",
    "plt.axis('off')  # Hide axes\n",
    "plt.show()\n"
   ]
  },
  {
   "cell_type": "code",
   "execution_count": null,
   "id": "22777454-e6a1-43b9-93b9-a2bbb874b0d2",
   "metadata": {
    "tags": []
   },
   "outputs": [],
   "source": [
    "# Kies een SVM met een RBF kernel\n",
    "svm_model = SVC(kernel='rbf', gamma='auto')  # auto\n",
    "\n",
    "# Train het model\n",
    "svm_model.fit(X_train_balanced, y_train_balanced)"
   ]
  },
  {
   "cell_type": "markdown",
   "id": "f446b623-2892-4913-966a-81617e86c082",
   "metadata": {},
   "source": [
    "## Model testen"
   ]
  },
  {
   "cell_type": "code",
   "execution_count": null,
   "id": "e6a8ef13-2946-4980-94cd-7ea5ab78daac",
   "metadata": {
    "tags": []
   },
   "outputs": [],
   "source": [
    "# Voorspel de test data\n",
    "y_pred = svm_model.predict(X_test)\n",
    "\n",
    "\n",
    "# Genereer een classificatierapport en een verwarringsmatrix\n",
    "print(confusion_matrix(y_test, y_pred))\n",
    "print(classification_report(y_test, y_pred))"
   ]
  },
  {
   "cell_type": "code",
   "execution_count": null,
   "id": "df239245-136f-4b8c-9bf1-67b10f2160fc",
   "metadata": {
    "tags": []
   },
   "outputs": [],
   "source": [
    "# https:/en.wikipedia.org/wiki/Precision_and_recall\n",
    "url = 'https://dqpublicblob.blob.core.windows.net/data-quality/SVM-model/Precisionrecall.png'\n",
    "\n",
    "# Fetch the image\n",
    "response = requests.get(url)\n",
    "img = Image.open(BytesIO(response.content))\n",
    "\n",
    "# Display the image\n",
    "plt.imshow(img)\n",
    "plt.axis('off')  # Hide axes\n",
    "plt.show()"
   ]
  },
  {
   "cell_type": "markdown",
   "id": "91721628-1835-46e4-9433-2472c7e0bc7b",
   "metadata": {
    "tags": []
   },
   "source": [
    "We hebben nu een lage precissie, maar een hoge recall voor brug open (10).\n",
    "\n",
    "We willen graag dat wanneer een brug echt open is, dat we zo min mogelijk zeggen dat die gesloten is. Dit is recall.\n",
    "\n",
    "Maar misschien is het niet zo heel erg als we zeggen dat brug open is, terwijl deze gesloten is (pressision). Mogelijk dat dit alleen rond de randen gebeurd. We zullen zien.\n"
   ]
  },
  {
   "cell_type": "markdown",
   "id": "cfd60436-9998-42ac-9510-ca4d93f70526",
   "metadata": {},
   "source": [
    "# Voorspelling over de gehele periode\n",
    "We gaan de brugopeningen voorspellen over de gehele periode, dus ook over 4,5 en 6 juni."
   ]
  },
  {
   "cell_type": "code",
   "execution_count": null,
   "id": "e7498a41-16b1-4d27-9a2f-38f0f259d4ba",
   "metadata": {
    "tags": []
   },
   "outputs": [],
   "source": [
    "pivoted_travel_times['prediction'] = svm_model.predict(\n",
    "    scaler.transform(pivoted_travel_times[features])) * -1\n"
   ]
  },
  {
   "cell_type": "markdown",
   "id": "9016d586-1b54-4563-8f6c-79e2b04ed642",
   "metadata": {},
   "source": [
    "Laten we dit weer in een  interactieve grafiek tonen."
   ]
  },
  {
   "cell_type": "code",
   "execution_count": null,
   "id": "2c2d4751-30a5-49fc-928b-9155d273dd88",
   "metadata": {
    "tags": []
   },
   "outputs": [],
   "source": [
    "fig = go.Figure()\n",
    "cols = pivoted_travel_times.columns\n",
    "color =['red', 'blue', 'orange', 'grey', 'black', 'purple', 'green']\n",
    "for col in range(len(cols)):\n",
    "    y_data = pivoted_travel_times[cols[col]]\n",
    "    name = str(cols[col])\n",
    "    fig.add_trace(go.Scatter(x=pivoted_travel_times.index, y=y_data, mode='lines', name=name, line=dict(color=color[col])))\n",
    "\n",
    "fig.write_html('SVM-predictie-kennisevent.html')"
   ]
  },
  {
   "cell_type": "markdown",
   "id": "9eb1f42b-88a4-4953-8a3b-343b4070fada",
   "metadata": {},
   "source": [
    "Waardoor zou de afwijking kunnen komen op 6 juni?"
   ]
  }
 ],
 "metadata": {
  "kernelspec": {
   "display_name": "Python 3 (ipykernel)",
   "language": "python",
   "name": "python3"
  },
  "language_info": {
   "codemirror_mode": {
    "name": "ipython",
    "version": 3
   },
   "file_extension": ".py",
   "mimetype": "text/x-python",
   "name": "python",
   "nbconvert_exporter": "python",
   "pygments_lexer": "ipython3",
   "version": "3.11.6"
  }
 },
 "nbformat": 4,
 "nbformat_minor": 5
}
